{
  "cells": [
    {
      "cell_type": "markdown",
      "metadata": {
        "id": "uzwtdWuhG1PV"
      },
      "source": [
        "## Weather Image classifcation for four different classes such as cloudy, rain, shine, sunrise.\n",
        "\n",
        "### Table of Contents\n",
        "\n",
        "* [1.Data Retrival and Formation](#chapter1)\n",
        "    * [1.1 Data Analysis](#section_1_1)\n",
        "* [2.Train-Test Split](#chapter2)\n",
        "    * [2.1 Train Set](#section_2_1)\n",
        "        * [2.1.1 Data Augmentation](#section_2_1_1)\n",
        "    * [2.2 Test Set](#section_2_2)\n",
        "    * [2.3 Valid Set](#section_2_3)\n",
        "* [3. Dataset & DataLoader](#chapter3)\n",
        "* [4.Initial Model](#chapter4)\n",
        "* [5.Evaluation](#chapter5)\n",
        "    * [5.1 Classification Report](#section_5_1)\n",
        "* [6.Prediction](#chapter6)"
      ]
    },
    {
      "cell_type": "code",
      "execution_count": 1,
      "metadata": {
        "id": "mg8JrfwCrMCS"
      },
      "outputs": [],
      "source": [
        "#Import essential library to build model and data processing.\n",
        "import numpy as np\n",
        "import pandas as pd\n",
        "import os\n",
        "import cv2\n",
        "import glob\n",
        "import matplotlib.pyplot as plt\n",
        "import sklearn\n",
        "import seaborn as sns\n",
        "from sklearn.model_selection import train_test_split"
      ]
    },
    {
      "cell_type": "code",
      "execution_count": 2,
      "metadata": {
        "id": "m8knWoxB3asO"
      },
      "outputs": [],
      "source": [
        "import torch\n",
        "import torchvision.transforms as transforms\n",
        "import torchvision\n",
        "import torch\n",
        "import torch.nn.functional as F\n",
        "from torch import nn\n",
        "from torchvision import datasets, transforms ,models\n",
        "from torch import optim\n",
        "from torch.autograd import Variable\n",
        "import torch.utils.data as data_utils\n",
        "from torch.utils.data import DataLoader,Dataset"
      ]
    },
    {
      "cell_type": "code",
      "execution_count": 3,
      "metadata": {
        "colab": {
          "base_uri": "https://localhost:8080/"
        },
        "id": "iTvAavPK7BHW",
        "outputId": "b761f759-dc06-4ff5-cb27-88a4ef4004be"
      },
      "outputs": [
        {
          "name": "stdout",
          "output_type": "stream",
          "text": [
            "cuda\n"
          ]
        }
      ],
      "source": [
        "#check device is cpu or gpu.\n",
        "device  = torch.device(\"cuda\" if torch.cuda.is_available() else \"cpu\")\n",
        "print(device)"
      ]
    },
    {
      "cell_type": "code",
      "execution_count": 4,
      "metadata": {
        "colab": {
          "base_uri": "https://localhost:8080/"
        },
        "id": "FJwzjfi827M3",
        "outputId": "e2b04443-9e8e-4c18-b5b0-f77312a20547"
      },
      "outputs": [
        {
          "name": "stdout",
          "output_type": "stream",
          "text": [
            "Mounted at /content/drive\n"
          ]
        }
      ],
      "source": [
        "#mount google drive where my data is stored\n",
        "from google.colab import drive\n",
        "drive.mount('/content/drive')\n"
      ]
    },
    {
      "cell_type": "code",
      "execution_count": 5,
      "metadata": {
        "id": "tFfCGGXv3CnE"
      },
      "outputs": [],
      "source": [
        "# link from where we can retrived the data  and the extension of the images to usd while create labels.\n",
        "data = '/content/drive/MyDrive/wdata'\n",
        "ext = ['png', 'jpg', 'jpeg'] "
      ]
    },
    {
      "cell_type": "markdown",
      "metadata": {
        "id": "vXDqvbZ7i7-R"
      },
      "source": [
        " <a name=\"chapter1\"></a>\n",
        "# 1) Data Retrival and Formation\n",
        "\n",
        "we store the data in drive using link we retrived the data and perform certain operation to get into formation for the model."
      ]
    },
    {
      "cell_type": "code",
      "execution_count": 6,
      "metadata": {
        "colab": {
          "base_uri": "https://localhost:8080/"
        },
        "id": "lS5L4nen3SSa",
        "outputId": "348769b6-dd70-437b-ab52-d5019b5b48c8"
      },
      "outputs": [
        {
          "name": "stdout",
          "output_type": "stream",
          "text": [
            "836\n",
            "cloudy100.jpg\n"
          ]
        }
      ],
      "source": [
        "# we will read image file names and store in list format\n",
        "image_name = os.listdir(data)\n",
        "print(len(image_name))\n",
        "print(image_name[0])"
      ]
    },
    {
      "cell_type": "code",
      "execution_count": 7,
      "metadata": {
        "id": "07BtBpkAUdvR"
      },
      "outputs": [],
      "source": [
        "def generate_label(target, ext):\n",
        "  '''it will remove the extension of the image and \n",
        "  numeric values present in image name to create the label'''\n",
        "  df = pd.DataFrame(target, columns = ['label'])\n",
        "  for e in ext:\n",
        "    df['label'] = df['label'].str.rstrip('.' + e)\n",
        "  df['label'] = df['label'].str.replace('\\d+', '')\n",
        "  return df"
      ]
    },
    {
      "cell_type": "code",
      "execution_count": 8,
      "metadata": {
        "id": "HQy74MbMVEKa"
      },
      "outputs": [],
      "source": [
        "df_label = generate_label(image_name, ext)"
      ]
    },
    {
      "cell_type": "code",
      "execution_count": 9,
      "metadata": {
        "id": "Nu0FQH6g6__f"
      },
      "outputs": [],
      "source": [
        "def get_image(data, image_name):\n",
        "  '''it will read the images and stored it inside dataframe.'''\n",
        "  files = []\n",
        "  [files.extend(glob.glob(data +  '/' + e)) for e in image_name] \n",
        "  images = [cv2.imread(file) for file in files]\n",
        "  df_image = pd.DataFrame(images, columns=['image'])\n",
        "  return df_image"
      ]
    },
    {
      "cell_type": "code",
      "execution_count": 10,
      "metadata": {
        "colab": {
          "base_uri": "https://localhost:8080/"
        },
        "id": "I20i645W7coo",
        "outputId": "66b3a8d3-6b6e-4d0c-b0ef-3a8598ce0b7d"
      },
      "outputs": [
        {
          "name": "stderr",
          "output_type": "stream",
          "text": [
            "/usr/local/lib/python3.7/dist-packages/pandas/core/internals/construction.py:305: VisibleDeprecationWarning: Creating an ndarray from ragged nested sequences (which is a list-or-tuple of lists-or-tuples-or ndarrays with different lengths or shapes) is deprecated. If you meant to do this, you must specify 'dtype=object' when creating the ndarray\n",
            "  values = np.array([convert(v) for v in values])\n"
          ]
        }
      ],
      "source": [
        "df_image = get_image(data, image_name)"
      ]
    },
    {
      "cell_type": "code",
      "execution_count": 11,
      "metadata": {
        "colab": {
          "base_uri": "https://localhost:8080/",
          "height": 423
        },
        "id": "4euTiq7k9q6T",
        "outputId": "ad91b937-99e3-4406-866e-5fc85803cc0e"
      },
      "outputs": [
        {
          "data": {
            "text/html": [
              "<div>\n",
              "<style scoped>\n",
              "    .dataframe tbody tr th:only-of-type {\n",
              "        vertical-align: middle;\n",
              "    }\n",
              "\n",
              "    .dataframe tbody tr th {\n",
              "        vertical-align: top;\n",
              "    }\n",
              "\n",
              "    .dataframe thead th {\n",
              "        text-align: right;\n",
              "    }\n",
              "</style>\n",
              "<table border=\"1\" class=\"dataframe\">\n",
              "  <thead>\n",
              "    <tr style=\"text-align: right;\">\n",
              "      <th></th>\n",
              "      <th>image</th>\n",
              "      <th>label</th>\n",
              "    </tr>\n",
              "  </thead>\n",
              "  <tbody>\n",
              "    <tr>\n",
              "      <th>0</th>\n",
              "      <td>[[[145, 135, 135], [148, 138, 138], [155, 143,...</td>\n",
              "      <td>0</td>\n",
              "    </tr>\n",
              "    <tr>\n",
              "      <th>1</th>\n",
              "      <td>[[[216, 209, 212], [216, 209, 212], [216, 209,...</td>\n",
              "      <td>0</td>\n",
              "    </tr>\n",
              "    <tr>\n",
              "      <th>2</th>\n",
              "      <td>[[[223, 192, 177], [217, 186, 171], [215, 184,...</td>\n",
              "      <td>0</td>\n",
              "    </tr>\n",
              "    <tr>\n",
              "      <th>3</th>\n",
              "      <td>[[[125, 125, 125], [126, 126, 126], [128, 128,...</td>\n",
              "      <td>0</td>\n",
              "    </tr>\n",
              "    <tr>\n",
              "      <th>4</th>\n",
              "      <td>[[[105, 79, 65], [104, 78, 64], [103, 77, 63],...</td>\n",
              "      <td>0</td>\n",
              "    </tr>\n",
              "    <tr>\n",
              "      <th>...</th>\n",
              "      <td>...</td>\n",
              "      <td>...</td>\n",
              "    </tr>\n",
              "    <tr>\n",
              "      <th>831</th>\n",
              "      <td>[[[64, 74, 134], [64, 74, 134], [63, 73, 133],...</td>\n",
              "      <td>3</td>\n",
              "    </tr>\n",
              "    <tr>\n",
              "      <th>832</th>\n",
              "      <td>[[[37, 39, 79], [45, 47, 95], [56, 58, 112], [...</td>\n",
              "      <td>3</td>\n",
              "    </tr>\n",
              "    <tr>\n",
              "      <th>833</th>\n",
              "      <td>[[[53, 88, 138], [53, 88, 138], [53, 88, 138],...</td>\n",
              "      <td>3</td>\n",
              "    </tr>\n",
              "    <tr>\n",
              "      <th>834</th>\n",
              "      <td>[[[29, 56, 83], [29, 56, 83], [29, 56, 83], [2...</td>\n",
              "      <td>3</td>\n",
              "    </tr>\n",
              "    <tr>\n",
              "      <th>835</th>\n",
              "      <td>[[[39, 25, 37], [40, 26, 38], [40, 26, 38], [4...</td>\n",
              "      <td>3</td>\n",
              "    </tr>\n",
              "  </tbody>\n",
              "</table>\n",
              "<p>836 rows × 2 columns</p>\n",
              "</div>"
            ],
            "text/plain": [
              "                                                 image  label\n",
              "0    [[[145, 135, 135], [148, 138, 138], [155, 143,...      0\n",
              "1    [[[216, 209, 212], [216, 209, 212], [216, 209,...      0\n",
              "2    [[[223, 192, 177], [217, 186, 171], [215, 184,...      0\n",
              "3    [[[125, 125, 125], [126, 126, 126], [128, 128,...      0\n",
              "4    [[[105, 79, 65], [104, 78, 64], [103, 77, 63],...      0\n",
              "..                                                 ...    ...\n",
              "831  [[[64, 74, 134], [64, 74, 134], [63, 73, 133],...      3\n",
              "832  [[[37, 39, 79], [45, 47, 95], [56, 58, 112], [...      3\n",
              "833  [[[53, 88, 138], [53, 88, 138], [53, 88, 138],...      3\n",
              "834  [[[29, 56, 83], [29, 56, 83], [29, 56, 83], [2...      3\n",
              "835  [[[39, 25, 37], [40, 26, 38], [40, 26, 38], [4...      3\n",
              "\n",
              "[836 rows x 2 columns]"
            ]
          },
          "execution_count": 11,
          "metadata": {},
          "output_type": "execute_result"
        }
      ],
      "source": [
        "# replace the labels with numeric values and indexing start from the 0 and concat the two datadrame in one.\n",
        "df_label['label'] = df_label['label'].map( {'cloudy':0 , 'shine':1, 'rain':2, 'sunrise':3} )\n",
        "weather_data = pd.concat([df_image, df_label], axis = 1)\n",
        "weather_data"
      ]
    },
    {
      "cell_type": "markdown",
      "metadata": {
        "id": "whua6QcKHmYu"
      },
      "source": [
        "<a name=\"section_1_1\"></a>\n",
        "# 1.1) Data Analysis\n",
        "Distribution of the dataset across four diffent classes is not balance. Particulary the sunrise class related images are low due to which perform the data augmentation to task on class 3."
      ]
    },
    {
      "cell_type": "code",
      "execution_count": 12,
      "metadata": {
        "colab": {
          "base_uri": "https://localhost:8080/",
          "height": 292
        },
        "id": "qoVYmsVi76h1",
        "outputId": "46f32332-8c9d-475e-e1ce-ce866a0845d7"
      },
      "outputs": [
        {
          "data": {
            "image/png": "[encoded data removed]",
            "text/plain": [
              "<Figure size 432x288 with 1 Axes>"
            ]
          },
          "metadata": {
            "needs_background": "light"
          },
          "output_type": "display_data"
        }
      ],
      "source": [
        "ax = weather_data['label'].value_counts().plot(kind='bar')\n",
        "ax.set_xlabel(\"Weather Type\")\n",
        "ax.set_ylabel(\"Image Count\")\n",
        "ax.title.set_text(\"Distribution of Weather Type\")"
      ]
    },
    {
      "cell_type": "markdown",
      "metadata": {
        "id": "RH47DzfZizH1"
      },
      "source": [
        "<a name=\"chapter2\"></a>\n",
        "# 2) Train-Test Split\n",
        "\n",
        "split the data into three section train, test, and valid.\n",
        "<a name=\"section_2_2\"></a>\n",
        "# 2.2) Test Split: 10% total data\n",
        "<a name=\"section_2_3\"></a>\n",
        "# 2.2) valid Split: 15% train data"
      ]
    },
    {
      "cell_type": "code",
      "execution_count": 13,
      "metadata": {
        "colab": {
          "base_uri": "https://localhost:8080/"
        },
        "id": "We4G5rx4--rJ",
        "outputId": "b2def22b-dda0-4f7e-abd5-f30701a0300c"
      },
      "outputs": [
        {
          "name": "stdout",
          "output_type": "stream",
          "text": [
            "(639, 2)\n",
            "(113, 2)\n",
            "(84, 2)\n"
          ]
        }
      ],
      "source": [
        "\n",
        "train_data, test_data = train_test_split(weather_data,test_size=0.1)\n",
        "train_data, valid_data = train_test_split(train_data,test_size=0.15)\n",
        "print(train_data.shape)\n",
        "print(valid_data.shape)\n",
        "print(test_data.shape)"
      ]
    },
    {
      "cell_type": "markdown",
      "metadata": {
        "id": "bMXbbxeekjJh"
      },
      "source": [
        "<a name=\"section_2_1\"></a>\n",
        "# 2.1) Train split and Distribution detect imbalance dataset."
      ]
    },
    {
      "cell_type": "code",
      "execution_count": 14,
      "metadata": {
        "colab": {
          "base_uri": "https://localhost:8080/",
          "height": 292
        },
        "id": "KNFnfsr1_B8H",
        "outputId": "97f9daba-42ab-4e93-de72-fc7916db0d66"
      },
      "outputs": [
        {
          "data": {
            "image/png": "[encoded data removed]",
            "text/plain": [
              "<Figure size 432x288 with 1 Axes>"
            ]
          },
          "metadata": {
            "needs_background": "light"
          },
          "output_type": "display_data"
        }
      ],
      "source": [
        "ax = train_data['label'].value_counts().plot(kind='bar')\n",
        "ax.set_xlabel(\"Weather Type\")\n",
        "ax.set_ylabel(\"Image Count\")\n",
        "ax.title.set_text(\"Distribution of Weather Type\")"
      ]
    },
    {
      "cell_type": "code",
      "execution_count": 15,
      "metadata": {
        "id": "6q2kmEj49g4J"
      },
      "outputs": [],
      "source": [
        "image_aug = train_data[train_data['label'] == 3]"
      ]
    },
    {
      "cell_type": "markdown",
      "metadata": {
        "id": "MIcL_NfMYZnm"
      },
      "source": [
        "<a name=\"section_2_1_1\"></a>\n",
        "# 2.1.1) Data Augmentation"
      ]
    },
    {
      "cell_type": "markdown",
      "metadata": {
        "id": "s_OuaQfA0byA"
      },
      "source": [
        "We horizontally flip the images related to sunrise label (3) and concate the data with the train set. Basically, we used for loop to iterate through the images and store it inside the dataframe. To flip horizontally used flip function and pass the argument 1. Actually, there are other techniques as well such as add noise in image, blur image, vertically flip, horizonatal and vertical flip,  and many others."
      ]
    },
    {
      "cell_type": "code",
      "execution_count": 16,
      "metadata": {
        "id": "BbNx4bDG9g0n"
      },
      "outputs": [],
      "source": [
        "def image_augmentation(dataframe):\n",
        "  for i in range (len(dataframe.index)):\n",
        "    dataframe.image.iloc[i] = cv2.flip(dataframe.image.iloc[i], 1)\n",
        "  return dataframe"
      ]
    },
    {
      "cell_type": "code",
      "execution_count": 17,
      "metadata": {
        "colab": {
          "base_uri": "https://localhost:8080/"
        },
        "id": "nh8jv3Nc9gxr",
        "outputId": "511daf8d-527d-4ed4-f528-e032642b111a"
      },
      "outputs": [
        {
          "name": "stderr",
          "output_type": "stream",
          "text": [
            "/usr/local/lib/python3.7/dist-packages/pandas/core/indexing.py:670: SettingWithCopyWarning: \n",
            "A value is trying to be set on a copy of a slice from a DataFrame\n",
            "\n",
            "See the caveats in the documentation: https://pandas.pydata.org/pandas-docs/stable/user_guide/indexing.html#returning-a-view-versus-a-copy\n",
            "  iloc._setitem_with_indexer(indexer, value)\n",
            "/usr/local/lib/python3.7/dist-packages/ipykernel_launcher.py:3: SettingWithCopyWarning: \n",
            "A value is trying to be set on a copy of a slice from a DataFrame\n",
            "\n",
            "See the caveats in the documentation: https://pandas.pydata.org/pandas-docs/stable/user_guide/indexing.html#returning-a-view-versus-a-copy\n",
            "  This is separate from the ipykernel package so we can avoid doing imports until\n"
          ]
        }
      ],
      "source": [
        "data_image_augment = image_augmentation(image_aug)"
      ]
    },
    {
      "cell_type": "markdown",
      "metadata": {
        "id": "N9JlY3Lm1hhE"
      },
      "source": [
        "### Data distribution after the data augmentation where we can find the label 3 related data is doubled."
      ]
    },
    {
      "cell_type": "code",
      "execution_count": 18,
      "metadata": {
        "colab": {
          "base_uri": "https://localhost:8080/",
          "height": 292
        },
        "id": "x4gZl_-HBXpB",
        "outputId": "5ec46df0-d94a-423f-aa6d-718df821f208"
      },
      "outputs": [
        {
          "data": {
            "image/png": "[encoded data removed]",
            "text/plain": [
              "<Figure size 432x288 with 1 Axes>"
            ]
          },
          "metadata": {
            "needs_background": "light"
          },
          "output_type": "display_data"
        }
      ],
      "source": [
        "train_data_aug = pd.concat([train_data, data_image_augment])\n",
        "ax = train_data_aug['label'].value_counts().plot(kind='bar')\n",
        "ax.set_xlabel(\"Weather Type\")\n",
        "ax.set_ylabel(\"Image Count\")\n",
        "ax.title.set_text(\"Distribution of Weather Type in Train Set\")"
      ]
    },
    {
      "cell_type": "markdown",
      "metadata": {
        "id": "QuzqiAPb5gU0"
      },
      "source": [
        "<a name=\"chapter3\"></a>\n",
        "# 3) Dataset & Dataloader \n",
        "For next two cell we prapared the dataset and dataloader using the pytorch functionality. First, we passed the dataframe and transform which is one of the functionality build by pytorch to perform vision related augmentation experiments. Using the transform we can convert images into the tensor and resize it, read it it using ToPILImage and rotate the image in random angle also flip the images horizontally. The ImageDataset class below, convert the labels into numpy array as well, and store it inside the dictionary and return it. After that, we have used the pytorch dataloader and set the batch size for train, test, and valid, set the shuffle is True."
      ]
    },
    {
      "cell_type": "code",
      "execution_count": 19,
      "metadata": {
        "id": "r50-8mxgUUVL"
      },
      "outputs": [],
      "source": [
        "class ImageDataset(Dataset):\n",
        "  def __init__(self, dataframe, transform):\n",
        "    self.dataframe = dataframe\n",
        "    self.transform=transform    \n",
        "    self.image=self.dataframe['image']\n",
        "    self.labels=np.array(self.dataframe['label'])\n",
        "  \n",
        "  def __len__(self):\n",
        "    return len(self.dataframe)\n",
        "\n",
        "  def __getitem__(self,index):\n",
        "    \n",
        "    image=self.transform(self.image.iloc[index])\n",
        "    targets=self.labels[index]\n",
        "    sample = {'image': image,'labels':targets}\n",
        "    return sample"
      ]
    },
    {
      "cell_type": "code",
      "execution_count": 20,
      "metadata": {
        "id": "UyxlmWTrUVIS"
      },
      "outputs": [],
      "source": [
        "train_transform = transforms.Compose([\n",
        "                transforms.ToPILImage(),\n",
        "                transforms.Resize((224, 224)),\n",
        "                transforms.RandomRotation(degrees=45),\n",
        "                transforms.ColorJitter(),\n",
        "                transforms.ToTensor()])\n",
        "\n",
        "valid_transform =transforms.Compose([\n",
        "                transforms.ToPILImage(),\n",
        "                transforms.Resize((224, 224)),\n",
        "                transforms.ToTensor()])\n",
        "\n",
        "test_transform =transforms.Compose([\n",
        "                transforms.ToPILImage(),\n",
        "                transforms.Resize((224, 224)),\n",
        "                transforms.ToTensor()])\n",
        "\n",
        "train_dataset=ImageDataset(train_data_aug, train_transform)\n",
        "valid_dataset=ImageDataset(valid_data, valid_transform)\n",
        "test_dataset=ImageDataset(test_data, test_transform)\n",
        "\n",
        "train_dataloader = DataLoader(\n",
        "    train_dataset, \n",
        "    batch_size=8,\n",
        "    shuffle=True\n",
        ")\n",
        "\n",
        "valid_dataloader = DataLoader(\n",
        "    valid_dataset, \n",
        "    batch_size=4,\n",
        "    shuffle=True\n",
        ")\n",
        "\n",
        "test_dataloader = DataLoader(\n",
        "    test_dataset, \n",
        "    batch_size=4,\n",
        "    shuffle=True\n",
        ")"
      ]
    },
    {
      "cell_type": "markdown",
      "metadata": {
        "id": "P09m2grX-nOv"
      },
      "source": [
        "<a name=\"chapter4\"></a>\n",
        "# 4) Inital Model\n",
        "We have used the Resnext18 pre-trained model which will have residual connections and pretrained model gives us advantage as we have weights already due to which model do not need start from the scratch. It gives little boost to the model while training. After that we have used our own classifier block in which we set two drop out layer with 0.2 probability and used the weight_decay(L2 Regularization technique) to prevent the overfitting and exploiting gradient issue. we have used the cross entropy loss and adam optimizer with learning rate set to 0.0001."
      ]
    },
    {
      "cell_type": "code",
      "execution_count": 21,
      "metadata": {
        "colab": {
          "base_uri": "https://localhost:8080/",
          "height": 1000,
          "referenced_widgets": [
            "77c2069870c944d8afdd6aa0a2c81842",
            "47b3df4c2e7341b6884d567122fb5820",
            "3a3500135362401da041502ab5fe484e",
            "40b9d44e3aeb48169b69bc8d29584d47",
            "37bf4a069f704d15a86c8d9c8cdc9453",
            "afec208e5d9c41f9aafa93cd7debf054",
            "bb5199ceb35f4beb93bc1b710dcc2ccf",
            "18c21264ac7749c28bf74f1168d2b595",
            "78aa81df5f804fcea0e1f8506ddef5ae",
            "14e0ee9eb417468b9a7e9c9ab453efe7",
            "3c5e6f3cae0e417b9fccfb19b92ce63d"
          ]
        },
        "id": "0BYulf4qblL8",
        "outputId": "85839a21-442e-4e91-d24a-f9ca26ddd2ae"
      },
      "outputs": [
        {
          "name": "stderr",
          "output_type": "stream",
          "text": [
            "Downloading: \"https://download.pytorch.org/models/resnet18-f37072fd.pth\" to /root/.cache/torch/hub/checkpoints/resnet18-f37072fd.pth\n"
          ]
        },
        {
          "data": {
            "application/vnd.jupyter.widget-view+json": {
              "model_id": "77c2069870c944d8afdd6aa0a2c81842",
              "version_major": 2,
              "version_minor": 0
            },
            "text/plain": [
              "  0%|          | 0.00/44.7M [00:00<?, ?B/s]"
            ]
          },
          "metadata": {},
          "output_type": "display_data"
        },
        {
          "data": {
            "text/plain": [
              "resnet18_model(\n",
              "  (model): ResNet(\n",
              "    (conv1): Conv2d(3, 64, kernel_size=(7, 7), stride=(2, 2), padding=(3, 3), bias=False)\n",
              "    (bn1): BatchNorm2d(64, eps=1e-05, momentum=0.1, affine=True, track_running_stats=True)\n",
              "    (relu): ReLU(inplace=True)\n",
              "    (maxpool): MaxPool2d(kernel_size=3, stride=2, padding=1, dilation=1, ceil_mode=False)\n",
              "    (layer1): Sequential(\n",
              "      (0): BasicBlock(\n",
              "        (conv1): Conv2d(64, 64, kernel_size=(3, 3), stride=(1, 1), padding=(1, 1), bias=False)\n",
              "        (bn1): BatchNorm2d(64, eps=1e-05, momentum=0.1, affine=True, track_running_stats=True)\n",
              "        (relu): ReLU(inplace=True)\n",
              "        (conv2): Conv2d(64, 64, kernel_size=(3, 3), stride=(1, 1), padding=(1, 1), bias=False)\n",
              "        (bn2): BatchNorm2d(64, eps=1e-05, momentum=0.1, affine=True, track_running_stats=True)\n",
              "      )\n",
              "      (1): BasicBlock(\n",
              "        (conv1): Conv2d(64, 64, kernel_size=(3, 3), stride=(1, 1), padding=(1, 1), bias=False)\n",
              "        (bn1): BatchNorm2d(64, eps=1e-05, momentum=0.1, affine=True, track_running_stats=True)\n",
              "        (relu): ReLU(inplace=True)\n",
              "        (conv2): Conv2d(64, 64, kernel_size=(3, 3), stride=(1, 1), padding=(1, 1), bias=False)\n",
              "        (bn2): BatchNorm2d(64, eps=1e-05, momentum=0.1, affine=True, track_running_stats=True)\n",
              "      )\n",
              "    )\n",
              "    (layer2): Sequential(\n",
              "      (0): BasicBlock(\n",
              "        (conv1): Conv2d(64, 128, kernel_size=(3, 3), stride=(2, 2), padding=(1, 1), bias=False)\n",
              "        (bn1): BatchNorm2d(128, eps=1e-05, momentum=0.1, affine=True, track_running_stats=True)\n",
              "        (relu): ReLU(inplace=True)\n",
              "        (conv2): Conv2d(128, 128, kernel_size=(3, 3), stride=(1, 1), padding=(1, 1), bias=False)\n",
              "        (bn2): BatchNorm2d(128, eps=1e-05, momentum=0.1, affine=True, track_running_stats=True)\n",
              "        (downsample): Sequential(\n",
              "          (0): Conv2d(64, 128, kernel_size=(1, 1), stride=(2, 2), bias=False)\n",
              "          (1): BatchNorm2d(128, eps=1e-05, momentum=0.1, affine=True, track_running_stats=True)\n",
              "        )\n",
              "      )\n",
              "      (1): BasicBlock(\n",
              "        (conv1): Conv2d(128, 128, kernel_size=(3, 3), stride=(1, 1), padding=(1, 1), bias=False)\n",
              "        (bn1): BatchNorm2d(128, eps=1e-05, momentum=0.1, affine=True, track_running_stats=True)\n",
              "        (relu): ReLU(inplace=True)\n",
              "        (conv2): Conv2d(128, 128, kernel_size=(3, 3), stride=(1, 1), padding=(1, 1), bias=False)\n",
              "        (bn2): BatchNorm2d(128, eps=1e-05, momentum=0.1, affine=True, track_running_stats=True)\n",
              "      )\n",
              "    )\n",
              "    (layer3): Sequential(\n",
              "      (0): BasicBlock(\n",
              "        (conv1): Conv2d(128, 256, kernel_size=(3, 3), stride=(2, 2), padding=(1, 1), bias=False)\n",
              "        (bn1): BatchNorm2d(256, eps=1e-05, momentum=0.1, affine=True, track_running_stats=True)\n",
              "        (relu): ReLU(inplace=True)\n",
              "        (conv2): Conv2d(256, 256, kernel_size=(3, 3), stride=(1, 1), padding=(1, 1), bias=False)\n",
              "        (bn2): BatchNorm2d(256, eps=1e-05, momentum=0.1, affine=True, track_running_stats=True)\n",
              "        (downsample): Sequential(\n",
              "          (0): Conv2d(128, 256, kernel_size=(1, 1), stride=(2, 2), bias=False)\n",
              "          (1): BatchNorm2d(256, eps=1e-05, momentum=0.1, affine=True, track_running_stats=True)\n",
              "        )\n",
              "      )\n",
              "      (1): BasicBlock(\n",
              "        (conv1): Conv2d(256, 256, kernel_size=(3, 3), stride=(1, 1), padding=(1, 1), bias=False)\n",
              "        (bn1): BatchNorm2d(256, eps=1e-05, momentum=0.1, affine=True, track_running_stats=True)\n",
              "        (relu): ReLU(inplace=True)\n",
              "        (conv2): Conv2d(256, 256, kernel_size=(3, 3), stride=(1, 1), padding=(1, 1), bias=False)\n",
              "        (bn2): BatchNorm2d(256, eps=1e-05, momentum=0.1, affine=True, track_running_stats=True)\n",
              "      )\n",
              "    )\n",
              "    (layer4): Sequential(\n",
              "      (0): BasicBlock(\n",
              "        (conv1): Conv2d(256, 512, kernel_size=(3, 3), stride=(2, 2), padding=(1, 1), bias=False)\n",
              "        (bn1): BatchNorm2d(512, eps=1e-05, momentum=0.1, affine=True, track_running_stats=True)\n",
              "        (relu): ReLU(inplace=True)\n",
              "        (conv2): Conv2d(512, 512, kernel_size=(3, 3), stride=(1, 1), padding=(1, 1), bias=False)\n",
              "        (bn2): BatchNorm2d(512, eps=1e-05, momentum=0.1, affine=True, track_running_stats=True)\n",
              "        (downsample): Sequential(\n",
              "          (0): Conv2d(256, 512, kernel_size=(1, 1), stride=(2, 2), bias=False)\n",
              "          (1): BatchNorm2d(512, eps=1e-05, momentum=0.1, affine=True, track_running_stats=True)\n",
              "        )\n",
              "      )\n",
              "      (1): BasicBlock(\n",
              "        (conv1): Conv2d(512, 512, kernel_size=(3, 3), stride=(1, 1), padding=(1, 1), bias=False)\n",
              "        (bn1): BatchNorm2d(512, eps=1e-05, momentum=0.1, affine=True, track_running_stats=True)\n",
              "        (relu): ReLU(inplace=True)\n",
              "        (conv2): Conv2d(512, 512, kernel_size=(3, 3), stride=(1, 1), padding=(1, 1), bias=False)\n",
              "        (bn2): BatchNorm2d(512, eps=1e-05, momentum=0.1, affine=True, track_running_stats=True)\n",
              "      )\n",
              "    )\n",
              "    (avgpool): AdaptiveAvgPool2d(output_size=(1, 1))\n",
              "    (fc): Sequential(\n",
              "      (0): Linear(in_features=512, out_features=1024, bias=True)\n",
              "      (1): Dropout(p=0.3, inplace=False)\n",
              "      (2): ReLU()\n",
              "      (3): Linear(in_features=1024, out_features=512, bias=True)\n",
              "      (4): Dropout(p=0.2, inplace=False)\n",
              "      (5): ReLU()\n",
              "      (6): Linear(in_features=512, out_features=4, bias=True)\n",
              "      (7): LogSoftmax(dim=1)\n",
              "    )\n",
              "  )\n",
              ")"
            ]
          },
          "execution_count": 21,
          "metadata": {},
          "output_type": "execute_result"
        }
      ],
      "source": [
        "class resnet18_model(nn.Module):\n",
        "    def __init__(self):\n",
        "        super(resnet18_model, self).__init__()\n",
        "        self.model = models.resnet18(pretrained=True)\n",
        "        for param in self.model.parameters():\n",
        "            param.requires_grad = False\n",
        "        classifier = nn.Sequential(\n",
        "                     nn.Linear(self.model.fc.in_features,1024),\n",
        "                     nn.Dropout(p = 0.3),\n",
        "                     nn.ReLU(),\n",
        "                     nn.Linear(1024,512),\n",
        "                     nn.Dropout(p = 0.2),\n",
        "                     nn.ReLU(),\n",
        "                     nn.Linear(512, 4),\n",
        "                     nn.LogSoftmax(dim = 1))   \n",
        "        self.model.fc = classifier        \n",
        "\n",
        "    \n",
        "    def forward(self, image): #\n",
        "        x = self.model(image)\n",
        "        return x\n",
        "\n",
        "\n",
        "model = resnet18_model()\n",
        "criterion = torch.nn.CrossEntropyLoss()\n",
        "optimizer = torch.optim.Adam(model.parameters(), lr = 0.0001, weight_decay = 3e-5)\n",
        "model.to(device)"
      ]
    },
    {
      "cell_type": "markdown",
      "metadata": {
        "id": "cfyb6TfqB0yW"
      },
      "source": [
        "### We perform the training and evaluation of the model. In training, we trained the model and after every epoch we used the validation block and plot the result of the model. we trained our model for 5 epochs"
      ]
    },
    {
      "cell_type": "code",
      "execution_count": 22,
      "metadata": {
        "id": "HuyEyxRp7PdN"
      },
      "outputs": [],
      "source": [
        "def fit(n_epochs, \n",
        "        model, \n",
        "        device, \n",
        "        train_loader, \n",
        "        valid_loader, \n",
        "        criterion, \n",
        "        optimizer):\n",
        "    '''It will perform model training and validation.'''\n",
        "    epochs = n_epochs\n",
        "    history = []\n",
        "    valid_loss_min = np.Inf\n",
        "    for epoch in range(epochs):\n",
        "        running_loss = 0\n",
        "        valid_loss = 0\n",
        "        train_acc = 0\n",
        "        valid_acc = 0\n",
        "\n",
        "        # Model Training\n",
        "        for sample in train_loader:\n",
        "            images = sample['image']\n",
        "            labels = sample['labels']\n",
        "            # data and target value on device either a CPU or GPU.\n",
        "            images = images.to(device=device, dtype = torch.float)\n",
        "            labels = labels.to(device=device, dtype = torch.long)\n",
        "            # Clear gradients\n",
        "            optimizer.zero_grad()\n",
        "            # Predicted images outputs\n",
        "            outputs = model(images)\n",
        "            #calculate the loss between prediction and target values\n",
        "            loss = criterion(outputs, labels)\n",
        "            #backpropogation of gradients\n",
        "            loss.backward()\n",
        "            #update the parameter\n",
        "            optimizer.step()\n",
        "            # Store the loss in variable\n",
        "            running_loss += loss.item()\n",
        "            # model's prediction using the max probability\n",
        "            _, pred = torch.max(outputs, dim=1)\n",
        "            correct_tensor = pred.eq(labels.data.view_as(pred))\n",
        "            #convert the tensor\n",
        "            accuracy = torch.mean(correct_tensor.type(torch.FloatTensor))\n",
        "            #track the accuracy\n",
        "            train_acc += accuracy.item()\n",
        "\n",
        "        # Validation Model\n",
        "        # Don't need to keep track of gradients\n",
        "        with torch.no_grad():\n",
        "            # set model to evaluate model\n",
        "            model.eval()\n",
        "            for sample in valid_loader:\n",
        "                images = sample['image']\n",
        "                labels = sample['labels']\n",
        "                # data and target on deivece and datatype decision\n",
        "                images = images.to(device=device, dtype = torch.float)\n",
        "                labels = labels.to(device=device, dtype = torch.long)\n",
        "                #prediction of the model\n",
        "                output = model(images)\n",
        "                #calculate valid loss\n",
        "                valid_loss += criterion(output, labels)\n",
        "                #calculate the accuracy and convert the type\n",
        "                _, pred = torch.max(output, dim=1)\n",
        "                correct_tensor = pred.eq(labels.data.view_as(pred))\n",
        "                accuracy = torch.mean(correct_tensor.type(torch.FloatTensor))\n",
        "                #calculate accuracy to keet track\n",
        "                valid_acc += accuracy.item()\n",
        "            #store loss and accuracy in list\n",
        "            history.append([running_loss /\n",
        "                            len(train_loader), train_acc /\n",
        "                            len(train_loader), valid_loss /\n",
        "                            len(valid_loader), valid_acc /\n",
        "                            len(valid_loader), epoch])\n",
        "            # save the model if valid loss decrease\n",
        "            if valid_loss <= valid_loss_min:\n",
        "                torch.save(model.state_dict(), 'best_model_weather.pth')\n",
        "                valid_loss_min = valid_loss\n",
        "    return model, history"
      ]
    },
    {
      "cell_type": "code",
      "execution_count": 23,
      "metadata": {
        "id": "zyQGkuJj6p5c"
      },
      "outputs": [],
      "source": [
        "model, history = fit(5, model, device, train_dataloader, valid_dataloader, criterion, optimizer)"
      ]
    },
    {
      "cell_type": "code",
      "execution_count": 24,
      "metadata": {
        "id": "WF6HaghsRAtS"
      },
      "outputs": [],
      "source": [
        "train_history = pd.DataFrame(history, columns = ['train_loss', 'train_acc', 'valid_loss', 'valid_acc', 'epoch'])"
      ]
    },
    {
      "cell_type": "code",
      "execution_count": 25,
      "metadata": {
        "id": "iaClSjxXP3vk"
      },
      "outputs": [],
      "source": [
        "def training_loss_performance(dataframe: pd.DataFrame):\n",
        "    '''It used the history generated from the training to plot the train vs valid loss.'''\n",
        "    plt.plot(dataframe['epoch'], dataframe['train_loss'], 'r', label='Training loss')\n",
        "    plt.plot(dataframe['epoch'], dataframe['valid_loss'], 'b', label='Validation loss')\n",
        "    plt.title('Training and Validation loss')\n",
        "    plt.legend()\n",
        "    plt.show()\n",
        "\n",
        "def train_acc_performance(dataframe: pd.DataFrame):\n",
        "    '''It used the history generated from the training to plot the train vs valid accuracy.'''\n",
        "    plt.plot(dataframe['epoch'], dataframe['train_acc'], 'r', label='Training acc')\n",
        "    plt.plot(dataframe['epoch'], dataframe['valid_acc'], 'b', label='Validation acc')\n",
        "    plt.title('Training and Validation Accuracy')\n",
        "    plt.legend()\n",
        "    plt.show()"
      ]
    },
    {
      "cell_type": "markdown",
      "metadata": {
        "id": "UYcmIOr0DtfA"
      },
      "source": [
        "The train and valid loss and accuracy plot."
      ]
    },
    {
      "cell_type": "code",
      "execution_count": 26,
      "metadata": {
        "colab": {
          "base_uri": "https://localhost:8080/",
          "height": 545
        },
        "id": "MZbZocgNkfLq",
        "outputId": "325390a0-dbf9-408a-b638-ef4abe888f0a"
      },
      "outputs": [
        {
          "data": {
            "image/png": "[encoded data removed]",
            "text/plain": [
              "<Figure size 432x288 with 1 Axes>"
            ]
          },
          "metadata": {
            "needs_background": "light"
          },
          "output_type": "display_data"
        },
        {
          "data": {
            "image/png": "[encoded data removed]",
            "text/plain": [
              "<Figure size 432x288 with 1 Axes>"
            ]
          },
          "metadata": {
            "needs_background": "light"
          },
          "output_type": "display_data"
        }
      ],
      "source": [
        "training_loss_performance(train_history)\n",
        "train_acc_performance(train_history)"
      ]
    },
    {
      "cell_type": "markdown",
      "metadata": {
        "id": "paHik7cGEn4T"
      },
      "source": [
        "<a name=\"chapter5\"></a>\n",
        "# 5) Model Evaluation \n",
        "Here, we evaluate the model's performance over the test data and we use the classificatoin report to measure the results. Where we can find each class related precision, recall, and f1 score."
      ]
    },
    {
      "cell_type": "code",
      "execution_count": 27,
      "metadata": {
        "id": "fIaR5l8i7l9j"
      },
      "outputs": [],
      "source": [
        "def evaluation(device, \n",
        "               model, \n",
        "               test_loader):\n",
        "    '''It will perform model testing and store the actual target and predicted result into list.'''\n",
        "    model.eval()\n",
        "    fin_targets = []\n",
        "    fin_outputs = []\n",
        "    with torch.no_grad():\n",
        "        for sample in test_loader:\n",
        "            images = sample['image']\n",
        "            labels = sample['labels']\n",
        "            images = images.to(device=device, dtype=torch.float)\n",
        "            labels = labels.to(device=device, dtype=torch.long)\n",
        "            output = model(images)\n",
        "            _, output = torch.max(output, dim=1)\n",
        "            fin_targets.extend(labels.cpu().detach().numpy().tolist())\n",
        "            fin_outputs.extend(output.cpu().detach().numpy().tolist())\n",
        "    return fin_outputs, fin_targets"
      ]
    },
    {
      "cell_type": "code",
      "execution_count": 28,
      "metadata": {
        "id": "gIZ2eGR8fzaD"
      },
      "outputs": [],
      "source": [
        "outputs, targets = evaluation(device, model, test_dataloader)"
      ]
    },
    {
      "cell_type": "code",
      "execution_count": 29,
      "metadata": {
        "colab": {
          "base_uri": "https://localhost:8080/"
        },
        "id": "r4jS-yS8fzBl",
        "outputId": "28224080-990e-4b09-95e2-26d8a18d65c3"
      },
      "outputs": [
        {
          "name": "stdout",
          "output_type": "stream",
          "text": [
            "              precision    recall  f1-score   support\n",
            "\n",
            "           0       0.83      1.00      0.91        25\n",
            "           1       0.96      0.86      0.91        29\n",
            "           2       1.00      1.00      1.00        22\n",
            "           3       1.00      0.75      0.86         8\n",
            "\n",
            "    accuracy                           0.93        84\n",
            "   macro avg       0.95      0.90      0.92        84\n",
            "weighted avg       0.94      0.93      0.93        84\n",
            "\n"
          ]
        }
      ],
      "source": [
        "print(sklearn.metrics.classification_report(outputs, targets))"
      ]
    },
    {
      "cell_type": "markdown",
      "metadata": {
        "id": "dyNYm9lLd6Mo"
      },
      "source": [
        "<a name=\"chapter6\"></a>\n",
        "# 6) Prediction\n",
        "\n",
        "The colleague can used the save model to perform the prediction. As per below steps:"
      ]
    },
    {
      "cell_type": "code",
      "execution_count": 30,
      "metadata": {
        "id": "KmBVf54yVvrE"
      },
      "outputs": [],
      "source": [
        "ckpt = torch.load('best_model_weather.pth')"
      ]
    },
    {
      "cell_type": "code",
      "execution_count": 31,
      "metadata": {
        "id": "HZv0tEeng3nA"
      },
      "outputs": [],
      "source": [
        "def imshow(image, ax=None, title=None, normalize=False):\n",
        "    \"\"\"Imshow for Tensor.\"\"\"\n",
        "    if ax is None:\n",
        "        fig, ax = plt.subplots()\n",
        "    image = image.numpy().transpose((1, 2, 0))\n",
        "    ax.imshow(image)\n",
        "    ax.spines['top'].set_visible(False)\n",
        "    ax.spines['right'].set_visible(False)\n",
        "    ax.spines['left'].set_visible(False)\n",
        "    ax.spines['bottom'].set_visible(False)\n",
        "    ax.tick_params(axis='both', length=0)\n",
        "    ax.set_xticklabels('')\n",
        "    ax.set_yticklabels('')\n",
        "\n",
        "    return ax"
      ]
    },
    {
      "cell_type": "markdown",
      "metadata": {
        "id": "R2Up21O2iDhR"
      },
      "source": [
        "# Here, model detect the prediction for image which is 0 related to class \"cloud\" and it's correct prediction."
      ]
    },
    {
      "cell_type": "code",
      "execution_count": 35,
      "metadata": {
        "colab": {
          "base_uri": "https://localhost:8080/",
          "height": 266
        },
        "id": "b-c0fr43g3eR",
        "outputId": "af3ab38d-0ca3-49e5-ebd4-c1903390557a"
      },
      "outputs": [
        {
          "name": "stdout",
          "output_type": "stream",
          "text": [
            "tensor([0], device='cuda:0')\n"
          ]
        },
        {
          "data": {
            "image/png": "[encoded data removed]",
            "text/plain": [
              "<Figure size 432x288 with 1 Axes>"
            ]
          },
          "metadata": {
            "needs_background": "light"
          },
          "output_type": "display_data"
        }
      ],
      "source": [
        "sample = next(iter(test_dataloader))\n",
        "images = sample['image']\n",
        "targets = sample['labels']\n",
        "a1 = imshow(images[0])\n",
        "images, labels = images.to(device), targets.to(device)\n",
        "img = images[0].view(1,3,224,224)\n",
        "\n",
        "with torch.no_grad():\n",
        "    model = model.to(device)\n",
        "    logits = model(img)\n",
        "    \n",
        "_, output = torch.max(logits, dim=1)\n",
        "print(output)\n"
      ]
    },
    {
      "cell_type": "code",
      "execution_count": null,
      "metadata": {
        "id": "tPpi9y-PhffN"
      },
      "outputs": [],
      "source": []
    }
  ],
  "metadata": {
    "accelerator": "GPU",
    "colab": {
      "collapsed_sections": [],
      "name": "Untitled29.ipynb",
      "provenance": []
    },
    "kernelspec": {
      "display_name": "Python 3",
      "name": "python3"
    },
    "language_info": {
      "name": "python"
    },
    "widgets": {
      "application/vnd.jupyter.widget-state+json": {
        "14e0ee9eb417468b9a7e9c9ab453efe7": {
          "model_module": "@jupyter-widgets/controls",
          "model_module_version": "1.5.0",
          "model_name": "DescriptionStyleModel",
          "state": {
            "_model_module": "@jupyter-widgets/controls",
            "_model_module_version": "1.5.0",
            "_model_name": "DescriptionStyleModel",
            "_view_count": null,
            "_view_module": "@jupyter-widgets/base",
            "_view_module_version": "1.2.0",
            "_view_name": "StyleView",
            "description_width": ""
          }
        },
        "18c21264ac7749c28bf74f1168d2b595": {
          "model_module": "@jupyter-widgets/controls",
          "model_module_version": "1.5.0",
          "model_name": "ProgressStyleModel",
          "state": {
            "_model_module": "@jupyter-widgets/controls",
            "_model_module_version": "1.5.0",
            "_model_name": "ProgressStyleModel",
            "_view_count": null,
            "_view_module": "@jupyter-widgets/base",
            "_view_module_version": "1.2.0",
            "_view_name": "StyleView",
            "bar_color": null,
            "description_width": ""
          }
        },
        "37bf4a069f704d15a86c8d9c8cdc9453": {
          "model_module": "@jupyter-widgets/controls",
          "model_module_version": "1.5.0",
          "model_name": "HTMLModel",
          "state": {
            "_dom_classes": [],
            "_model_module": "@jupyter-widgets/controls",
            "_model_module_version": "1.5.0",
            "_model_name": "HTMLModel",
            "_view_count": null,
            "_view_module": "@jupyter-widgets/controls",
            "_view_module_version": "1.5.0",
            "_view_name": "HTMLView",
            "description": "",
            "description_tooltip": null,
            "layout": "IPY_MODEL_3c5e6f3cae0e417b9fccfb19b92ce63d",
            "placeholder": "​",
            "style": "IPY_MODEL_14e0ee9eb417468b9a7e9c9ab453efe7",
            "value": " 44.7M/44.7M [00:00&lt;00:00, 101MB/s]"
          }
        },
        "3a3500135362401da041502ab5fe484e": {
          "model_module": "@jupyter-widgets/controls",
          "model_module_version": "1.5.0",
          "model_name": "HTMLModel",
          "state": {
            "_dom_classes": [],
            "_model_module": "@jupyter-widgets/controls",
            "_model_module_version": "1.5.0",
            "_model_name": "HTMLModel",
            "_view_count": null,
            "_view_module": "@jupyter-widgets/controls",
            "_view_module_version": "1.5.0",
            "_view_name": "HTMLView",
            "description": "",
            "description_tooltip": null,
            "layout": "IPY_MODEL_bb5199ceb35f4beb93bc1b710dcc2ccf",
            "placeholder": "​",
            "style": "IPY_MODEL_afec208e5d9c41f9aafa93cd7debf054",
            "value": "100%"
          }
        },
        "3c5e6f3cae0e417b9fccfb19b92ce63d": {
          "model_module": "@jupyter-widgets/base",
          "model_module_version": "1.2.0",
          "model_name": "LayoutModel",
          "state": {
            "_model_module": "@jupyter-widgets/base",
            "_model_module_version": "1.2.0",
            "_model_name": "LayoutModel",
            "_view_count": null,
            "_view_module": "@jupyter-widgets/base",
            "_view_module_version": "1.2.0",
            "_view_name": "LayoutView",
            "align_content": null,
            "align_items": null,
            "align_self": null,
            "border": null,
            "bottom": null,
            "display": null,
            "flex": null,
            "flex_flow": null,
            "grid_area": null,
            "grid_auto_columns": null,
            "grid_auto_flow": null,
            "grid_auto_rows": null,
            "grid_column": null,
            "grid_gap": null,
            "grid_row": null,
            "grid_template_areas": null,
            "grid_template_columns": null,
            "grid_template_rows": null,
            "height": null,
            "justify_content": null,
            "justify_items": null,
            "left": null,
            "margin": null,
            "max_height": null,
            "max_width": null,
            "min_height": null,
            "min_width": null,
            "object_fit": null,
            "object_position": null,
            "order": null,
            "overflow": null,
            "overflow_x": null,
            "overflow_y": null,
            "padding": null,
            "right": null,
            "top": null,
            "visibility": null,
            "width": null
          }
        },
        "40b9d44e3aeb48169b69bc8d29584d47": {
          "model_module": "@jupyter-widgets/controls",
          "model_module_version": "1.5.0",
          "model_name": "FloatProgressModel",
          "state": {
            "_dom_classes": [],
            "_model_module": "@jupyter-widgets/controls",
            "_model_module_version": "1.5.0",
            "_model_name": "FloatProgressModel",
            "_view_count": null,
            "_view_module": "@jupyter-widgets/controls",
            "_view_module_version": "1.5.0",
            "_view_name": "ProgressView",
            "bar_style": "success",
            "description": "",
            "description_tooltip": null,
            "layout": "IPY_MODEL_78aa81df5f804fcea0e1f8506ddef5ae",
            "max": 46830571,
            "min": 0,
            "orientation": "horizontal",
            "style": "IPY_MODEL_18c21264ac7749c28bf74f1168d2b595",
            "value": 46830571
          }
        },
        "47b3df4c2e7341b6884d567122fb5820": {
          "model_module": "@jupyter-widgets/base",
          "model_module_version": "1.2.0",
          "model_name": "LayoutModel",
          "state": {
            "_model_module": "@jupyter-widgets/base",
            "_model_module_version": "1.2.0",
            "_model_name": "LayoutModel",
            "_view_count": null,
            "_view_module": "@jupyter-widgets/base",
            "_view_module_version": "1.2.0",
            "_view_name": "LayoutView",
            "align_content": null,
            "align_items": null,
            "align_self": null,
            "border": null,
            "bottom": null,
            "display": null,
            "flex": null,
            "flex_flow": null,
            "grid_area": null,
            "grid_auto_columns": null,
            "grid_auto_flow": null,
            "grid_auto_rows": null,
            "grid_column": null,
            "grid_gap": null,
            "grid_row": null,
            "grid_template_areas": null,
            "grid_template_columns": null,
            "grid_template_rows": null,
            "height": null,
            "justify_content": null,
            "justify_items": null,
            "left": null,
            "margin": null,
            "max_height": null,
            "max_width": null,
            "min_height": null,
            "min_width": null,
            "object_fit": null,
            "object_position": null,
            "order": null,
            "overflow": null,
            "overflow_x": null,
            "overflow_y": null,
            "padding": null,
            "right": null,
            "top": null,
            "visibility": null,
            "width": null
          }
        },
        "77c2069870c944d8afdd6aa0a2c81842": {
          "model_module": "@jupyter-widgets/controls",
          "model_module_version": "1.5.0",
          "model_name": "HBoxModel",
          "state": {
            "_dom_classes": [],
            "_model_module": "@jupyter-widgets/controls",
            "_model_module_version": "1.5.0",
            "_model_name": "HBoxModel",
            "_view_count": null,
            "_view_module": "@jupyter-widgets/controls",
            "_view_module_version": "1.5.0",
            "_view_name": "HBoxView",
            "box_style": "",
            "children": [
              "IPY_MODEL_3a3500135362401da041502ab5fe484e",
              "IPY_MODEL_40b9d44e3aeb48169b69bc8d29584d47",
              "IPY_MODEL_37bf4a069f704d15a86c8d9c8cdc9453"
            ],
            "layout": "IPY_MODEL_47b3df4c2e7341b6884d567122fb5820"
          }
        },
        "78aa81df5f804fcea0e1f8506ddef5ae": {
          "model_module": "@jupyter-widgets/base",
          "model_module_version": "1.2.0",
          "model_name": "LayoutModel",
          "state": {
            "_model_module": "@jupyter-widgets/base",
            "_model_module_version": "1.2.0",
            "_model_name": "LayoutModel",
            "_view_count": null,
            "_view_module": "@jupyter-widgets/base",
            "_view_module_version": "1.2.0",
            "_view_name": "LayoutView",
            "align_content": null,
            "align_items": null,
            "align_self": null,
            "border": null,
            "bottom": null,
            "display": null,
            "flex": null,
            "flex_flow": null,
            "grid_area": null,
            "grid_auto_columns": null,
            "grid_auto_flow": null,
            "grid_auto_rows": null,
            "grid_column": null,
            "grid_gap": null,
            "grid_row": null,
            "grid_template_areas": null,
            "grid_template_columns": null,
            "grid_template_rows": null,
            "height": null,
            "justify_content": null,
            "justify_items": null,
            "left": null,
            "margin": null,
            "max_height": null,
            "max_width": null,
            "min_height": null,
            "min_width": null,
            "object_fit": null,
            "object_position": null,
            "order": null,
            "overflow": null,
            "overflow_x": null,
            "overflow_y": null,
            "padding": null,
            "right": null,
            "top": null,
            "visibility": null,
            "width": null
          }
        },
        "afec208e5d9c41f9aafa93cd7debf054": {
          "model_module": "@jupyter-widgets/controls",
          "model_module_version": "1.5.0",
          "model_name": "DescriptionStyleModel",
          "state": {
            "_model_module": "@jupyter-widgets/controls",
            "_model_module_version": "1.5.0",
            "_model_name": "DescriptionStyleModel",
            "_view_count": null,
            "_view_module": "@jupyter-widgets/base",
            "_view_module_version": "1.2.0",
            "_view_name": "StyleView",
            "description_width": ""
          }
        },
        "bb5199ceb35f4beb93bc1b710dcc2ccf": {
          "model_module": "@jupyter-widgets/base",
          "model_module_version": "1.2.0",
          "model_name": "LayoutModel",
          "state": {
            "_model_module": "@jupyter-widgets/base",
            "_model_module_version": "1.2.0",
            "_model_name": "LayoutModel",
            "_view_count": null,
            "_view_module": "@jupyter-widgets/base",
            "_view_module_version": "1.2.0",
            "_view_name": "LayoutView",
            "align_content": null,
            "align_items": null,
            "align_self": null,
            "border": null,
            "bottom": null,
            "display": null,
            "flex": null,
            "flex_flow": null,
            "grid_area": null,
            "grid_auto_columns": null,
            "grid_auto_flow": null,
            "grid_auto_rows": null,
            "grid_column": null,
            "grid_gap": null,
            "grid_row": null,
            "grid_template_areas": null,
            "grid_template_columns": null,
            "grid_template_rows": null,
            "height": null,
            "justify_content": null,
            "justify_items": null,
            "left": null,
            "margin": null,
            "max_height": null,
            "max_width": null,
            "min_height": null,
            "min_width": null,
            "object_fit": null,
            "object_position": null,
            "order": null,
            "overflow": null,
            "overflow_x": null,
            "overflow_y": null,
            "padding": null,
            "right": null,
            "top": null,
            "visibility": null,
            "width": null
          }
        }
      }
    }
  },
  "nbformat": 4,
  "nbformat_minor": 0
}
